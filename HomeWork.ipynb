{
 "cells": [
  {
   "cell_type": "markdown",
   "id": "673859ff",
   "metadata": {},
   "source": [
    "# Задача 3.9"
   ]
  },
  {
   "cell_type": "markdown",
   "id": "97cd2737",
   "metadata": {},
   "source": [
    "Требуется:\n",
    "1) построить уравнение парной линейной регрессии;\n",
    "2) вычислить теоретические значения (У) и значения остатков (е,);\n",
    "3) рассчитать критерий Дарбина-Уотсона и оценить полученный результат на уровне значимости а = 0,05 ."
   ]
  },
  {
   "cell_type": "code",
   "execution_count": 421,
   "id": "868dd805",
   "metadata": {},
   "outputs": [],
   "source": [
    "import pandas as pd\n",
    "import numpy as np\n",
    "import matplotlib.pyplot as plt\n",
    "import seaborn as sns\n",
    "import statsmodels.api as sm\n",
    "\n",
    "from scipy.stats import spearmanr\n",
    "from statsmodels.stats.diagnostic import het_goldfeldquandt"
   ]
  },
  {
   "cell_type": "code",
   "execution_count": 422,
   "id": "217f20df",
   "metadata": {},
   "outputs": [],
   "source": [
    "df = pd.read_csv(\"3_9.csv\", sep=\",\")\n"
   ]
  },
  {
   "cell_type": "code",
   "execution_count": 423,
   "id": "cb66b0e9",
   "metadata": {},
   "outputs": [],
   "source": [
    "df = (\n",
    "    df\n",
    "    .drop(columns=[\"№\"])\n",
    "    .rename(\n",
    "        columns={\n",
    "            \"x (Площадь квартиры м²)\": \"x\",\n",
    "            \"y (Стоимость квартиры тыс. у.е.)\": \"y\"\n",
    "        }\n",
    "    )\n",
    ")"
   ]
  },
  {
   "cell_type": "code",
   "execution_count": 424,
   "id": "0305af60",
   "metadata": {},
   "outputs": [
    {
     "data": {
      "text/html": [
       "<div>\n",
       "<style scoped>\n",
       "    .dataframe tbody tr th:only-of-type {\n",
       "        vertical-align: middle;\n",
       "    }\n",
       "\n",
       "    .dataframe tbody tr th {\n",
       "        vertical-align: top;\n",
       "    }\n",
       "\n",
       "    .dataframe thead th {\n",
       "        text-align: right;\n",
       "    }\n",
       "</style>\n",
       "<table border=\"1\" class=\"dataframe\">\n",
       "  <thead>\n",
       "    <tr style=\"text-align: right;\">\n",
       "      <th></th>\n",
       "      <th>x</th>\n",
       "      <th>y</th>\n",
       "    </tr>\n",
       "  </thead>\n",
       "  <tbody>\n",
       "    <tr>\n",
       "      <th>0</th>\n",
       "      <td>28</td>\n",
       "      <td>27.0</td>\n",
       "    </tr>\n",
       "    <tr>\n",
       "      <th>1</th>\n",
       "      <td>29</td>\n",
       "      <td>22.0</td>\n",
       "    </tr>\n",
       "    <tr>\n",
       "      <th>2</th>\n",
       "      <td>32</td>\n",
       "      <td>29.0</td>\n",
       "    </tr>\n",
       "    <tr>\n",
       "      <th>3</th>\n",
       "      <td>35</td>\n",
       "      <td>27.0</td>\n",
       "    </tr>\n",
       "    <tr>\n",
       "      <th>4</th>\n",
       "      <td>40</td>\n",
       "      <td>31.0</td>\n",
       "    </tr>\n",
       "    <tr>\n",
       "      <th>5</th>\n",
       "      <td>44</td>\n",
       "      <td>34.0</td>\n",
       "    </tr>\n",
       "    <tr>\n",
       "      <th>6</th>\n",
       "      <td>45</td>\n",
       "      <td>39.3</td>\n",
       "    </tr>\n",
       "    <tr>\n",
       "      <th>7</th>\n",
       "      <td>51</td>\n",
       "      <td>52.7</td>\n",
       "    </tr>\n",
       "    <tr>\n",
       "      <th>8</th>\n",
       "      <td>53</td>\n",
       "      <td>55.4</td>\n",
       "    </tr>\n",
       "    <tr>\n",
       "      <th>9</th>\n",
       "      <td>58</td>\n",
       "      <td>57.0</td>\n",
       "    </tr>\n",
       "    <tr>\n",
       "      <th>10</th>\n",
       "      <td>64</td>\n",
       "      <td>76.0</td>\n",
       "    </tr>\n",
       "    <tr>\n",
       "      <th>11</th>\n",
       "      <td>65</td>\n",
       "      <td>79.1</td>\n",
       "    </tr>\n",
       "    <tr>\n",
       "      <th>12</th>\n",
       "      <td>73</td>\n",
       "      <td>94.8</td>\n",
       "    </tr>\n",
       "    <tr>\n",
       "      <th>13</th>\n",
       "      <td>75</td>\n",
       "      <td>101.0</td>\n",
       "    </tr>\n",
       "    <tr>\n",
       "      <th>14</th>\n",
       "      <td>80</td>\n",
       "      <td>86.0</td>\n",
       "    </tr>\n",
       "    <tr>\n",
       "      <th>15</th>\n",
       "      <td>83</td>\n",
       "      <td>122.0</td>\n",
       "    </tr>\n",
       "    <tr>\n",
       "      <th>16</th>\n",
       "      <td>93</td>\n",
       "      <td>137.4</td>\n",
       "    </tr>\n",
       "  </tbody>\n",
       "</table>\n",
       "</div>"
      ],
      "text/plain": [
       "     x      y\n",
       "0   28   27.0\n",
       "1   29   22.0\n",
       "2   32   29.0\n",
       "3   35   27.0\n",
       "4   40   31.0\n",
       "5   44   34.0\n",
       "6   45   39.3\n",
       "7   51   52.7\n",
       "8   53   55.4\n",
       "9   58   57.0\n",
       "10  64   76.0\n",
       "11  65   79.1\n",
       "12  73   94.8\n",
       "13  75  101.0\n",
       "14  80   86.0\n",
       "15  83  122.0\n",
       "16  93  137.4"
      ]
     },
     "execution_count": 424,
     "metadata": {},
     "output_type": "execute_result"
    }
   ],
   "source": [
    "df"
   ]
  },
  {
   "cell_type": "code",
   "execution_count": 425,
   "id": "006c15e0",
   "metadata": {},
   "outputs": [
    {
     "name": "stdout",
     "output_type": "stream",
     "text": [
      "                            OLS Regression Results                            \n",
      "==============================================================================\n",
      "Dep. Variable:                      y   R-squared:                       0.947\n",
      "Model:                            OLS   Adj. R-squared:                  0.944\n",
      "Method:                 Least Squares   F-statistic:                     268.9\n",
      "Date:                Fri, 17 Oct 2025   Prob (F-statistic):           5.48e-11\n",
      "Time:                        20:14:04   Log-Likelihood:                -59.427\n",
      "No. Observations:                  17   AIC:                             122.9\n",
      "Df Residuals:                      15   BIC:                             124.5\n",
      "Df Model:                           1                                         \n",
      "Covariance Type:            nonrobust                                         \n",
      "==============================================================================\n",
      "                 coef    std err          t      P>|t|      [0.025      0.975]\n",
      "------------------------------------------------------------------------------\n",
      "const        -32.9422      6.202     -5.312      0.000     -46.161     -19.724\n",
      "x              1.7202      0.105     16.399      0.000       1.497       1.944\n",
      "==============================================================================\n",
      "Omnibus:                        0.822   Durbin-Watson:                   1.671\n",
      "Prob(Omnibus):                  0.663   Jarque-Bera (JB):                0.431\n",
      "Skew:                          -0.379   Prob(JB):                        0.806\n",
      "Kurtosis:                       2.820   Cond. No.                         178.\n",
      "==============================================================================\n",
      "\n",
      "Notes:\n",
      "[1] Standard Errors assume that the covariance matrix of the errors is correctly specified.\n"
     ]
    }
   ],
   "source": [
    "X = sm.add_constant(df[\"x\"])\n",
    "model = sm.OLS(df[\"y\"], X).fit()\n",
    "print(model.summary())"
   ]
  },
  {
   "cell_type": "code",
   "execution_count": 426,
   "id": "54957a82",
   "metadata": {},
   "outputs": [],
   "source": [
    "x_grid = np.array(df[\"x\"])\n",
    "X_grid = sm.add_constant(x_grid)\n",
    "y_hat_grid = model.predict(X_grid)\n",
    "df[\"y^\"] = y_hat_grid\n"
   ]
  },
  {
   "cell_type": "code",
   "execution_count": 427,
   "id": "cfde0c84",
   "metadata": {},
   "outputs": [
    {
     "data": {
      "image/png": "[encoded data removed]",
      "text/plain": [
       "<Figure size 600x400 with 1 Axes>"
      ]
     },
     "metadata": {},
     "output_type": "display_data"
    }
   ],
   "source": [
    "a , b = model.params\n",
    "plt.figure(figsize=(6,4))\n",
    "plt.scatter(df[\"x\"], df[\"y\"], label=\"Фактические данные\")\n",
    "plt.plot(x_grid, y_hat_grid, color=\"red\", label=\"Линия регрессии\")\n",
    "plt.title(f\"Зависимость стоимости квартиры от её площади\\n y = {a:.2f} + {b:.2f}x\")\n",
    "plt.legend()\n",
    "plt.show()"
   ]
  },
  {
   "cell_type": "code",
   "execution_count": 428,
   "id": "5f543942",
   "metadata": {},
   "outputs": [
    {
     "name": "stdout",
     "output_type": "stream",
     "text": [
      "Коэффициент Пирсона: 0.9732\n",
      "Коэффициент детерминации: 0.9472\n"
     ]
    }
   ],
   "source": [
    "r_xy = np.corrcoef(df[\"x\"], df[\"y\"])[0, 1]\n",
    "print(f\"Коэффициент Пирсона: {r_xy:.4f}\")\n",
    "print(f\"Коэффициент детерминации: {pow(r_xy, 2):.4f}\")"
   ]
  },
  {
   "cell_type": "code",
   "execution_count": 429,
   "id": "3b3a6f0a",
   "metadata": {},
   "outputs": [
    {
     "data": {
      "text/html": [
       "<div>\n",
       "<style scoped>\n",
       "    .dataframe tbody tr th:only-of-type {\n",
       "        vertical-align: middle;\n",
       "    }\n",
       "\n",
       "    .dataframe tbody tr th {\n",
       "        vertical-align: top;\n",
       "    }\n",
       "\n",
       "    .dataframe thead th {\n",
       "        text-align: right;\n",
       "    }\n",
       "</style>\n",
       "<table border=\"1\" class=\"dataframe\">\n",
       "  <thead>\n",
       "    <tr style=\"text-align: right;\">\n",
       "      <th></th>\n",
       "      <th>x</th>\n",
       "      <th>y</th>\n",
       "      <th>y^</th>\n",
       "      <th>e</th>\n",
       "      <th>|e|</th>\n",
       "    </tr>\n",
       "  </thead>\n",
       "  <tbody>\n",
       "    <tr>\n",
       "      <th>0</th>\n",
       "      <td>28</td>\n",
       "      <td>27.0</td>\n",
       "      <td>15.222451</td>\n",
       "      <td>11.777549</td>\n",
       "      <td>11.777549</td>\n",
       "    </tr>\n",
       "    <tr>\n",
       "      <th>1</th>\n",
       "      <td>29</td>\n",
       "      <td>22.0</td>\n",
       "      <td>16.942617</td>\n",
       "      <td>5.057383</td>\n",
       "      <td>5.057383</td>\n",
       "    </tr>\n",
       "    <tr>\n",
       "      <th>2</th>\n",
       "      <td>32</td>\n",
       "      <td>29.0</td>\n",
       "      <td>22.103115</td>\n",
       "      <td>6.896885</td>\n",
       "      <td>6.896885</td>\n",
       "    </tr>\n",
       "    <tr>\n",
       "      <th>3</th>\n",
       "      <td>35</td>\n",
       "      <td>27.0</td>\n",
       "      <td>27.263613</td>\n",
       "      <td>-0.263613</td>\n",
       "      <td>0.263613</td>\n",
       "    </tr>\n",
       "    <tr>\n",
       "      <th>4</th>\n",
       "      <td>40</td>\n",
       "      <td>31.0</td>\n",
       "      <td>35.864442</td>\n",
       "      <td>-4.864442</td>\n",
       "      <td>4.864442</td>\n",
       "    </tr>\n",
       "    <tr>\n",
       "      <th>5</th>\n",
       "      <td>44</td>\n",
       "      <td>34.0</td>\n",
       "      <td>42.745106</td>\n",
       "      <td>-8.745106</td>\n",
       "      <td>8.745106</td>\n",
       "    </tr>\n",
       "    <tr>\n",
       "      <th>6</th>\n",
       "      <td>45</td>\n",
       "      <td>39.3</td>\n",
       "      <td>44.465272</td>\n",
       "      <td>-5.165272</td>\n",
       "      <td>5.165272</td>\n",
       "    </tr>\n",
       "    <tr>\n",
       "      <th>7</th>\n",
       "      <td>51</td>\n",
       "      <td>52.7</td>\n",
       "      <td>54.786268</td>\n",
       "      <td>-2.086268</td>\n",
       "      <td>2.086268</td>\n",
       "    </tr>\n",
       "    <tr>\n",
       "      <th>8</th>\n",
       "      <td>53</td>\n",
       "      <td>55.4</td>\n",
       "      <td>58.226600</td>\n",
       "      <td>-2.826600</td>\n",
       "      <td>2.826600</td>\n",
       "    </tr>\n",
       "    <tr>\n",
       "      <th>9</th>\n",
       "      <td>58</td>\n",
       "      <td>57.0</td>\n",
       "      <td>66.827430</td>\n",
       "      <td>-9.827430</td>\n",
       "      <td>9.827430</td>\n",
       "    </tr>\n",
       "    <tr>\n",
       "      <th>10</th>\n",
       "      <td>64</td>\n",
       "      <td>76.0</td>\n",
       "      <td>77.148426</td>\n",
       "      <td>-1.148426</td>\n",
       "      <td>1.148426</td>\n",
       "    </tr>\n",
       "    <tr>\n",
       "      <th>11</th>\n",
       "      <td>65</td>\n",
       "      <td>79.1</td>\n",
       "      <td>78.868592</td>\n",
       "      <td>0.231408</td>\n",
       "      <td>0.231408</td>\n",
       "    </tr>\n",
       "    <tr>\n",
       "      <th>12</th>\n",
       "      <td>73</td>\n",
       "      <td>94.8</td>\n",
       "      <td>92.629919</td>\n",
       "      <td>2.170081</td>\n",
       "      <td>2.170081</td>\n",
       "    </tr>\n",
       "    <tr>\n",
       "      <th>13</th>\n",
       "      <td>75</td>\n",
       "      <td>101.0</td>\n",
       "      <td>96.070251</td>\n",
       "      <td>4.929749</td>\n",
       "      <td>4.929749</td>\n",
       "    </tr>\n",
       "    <tr>\n",
       "      <th>14</th>\n",
       "      <td>80</td>\n",
       "      <td>86.0</td>\n",
       "      <td>104.671081</td>\n",
       "      <td>-18.671081</td>\n",
       "      <td>18.671081</td>\n",
       "    </tr>\n",
       "    <tr>\n",
       "      <th>15</th>\n",
       "      <td>83</td>\n",
       "      <td>122.0</td>\n",
       "      <td>109.831579</td>\n",
       "      <td>12.168421</td>\n",
       "      <td>12.168421</td>\n",
       "    </tr>\n",
       "    <tr>\n",
       "      <th>16</th>\n",
       "      <td>93</td>\n",
       "      <td>137.4</td>\n",
       "      <td>127.033239</td>\n",
       "      <td>10.366761</td>\n",
       "      <td>10.366761</td>\n",
       "    </tr>\n",
       "  </tbody>\n",
       "</table>\n",
       "</div>"
      ],
      "text/plain": [
       "     x      y          y^          e        |e|\n",
       "0   28   27.0   15.222451  11.777549  11.777549\n",
       "1   29   22.0   16.942617   5.057383   5.057383\n",
       "2   32   29.0   22.103115   6.896885   6.896885\n",
       "3   35   27.0   27.263613  -0.263613   0.263613\n",
       "4   40   31.0   35.864442  -4.864442   4.864442\n",
       "5   44   34.0   42.745106  -8.745106   8.745106\n",
       "6   45   39.3   44.465272  -5.165272   5.165272\n",
       "7   51   52.7   54.786268  -2.086268   2.086268\n",
       "8   53   55.4   58.226600  -2.826600   2.826600\n",
       "9   58   57.0   66.827430  -9.827430   9.827430\n",
       "10  64   76.0   77.148426  -1.148426   1.148426\n",
       "11  65   79.1   78.868592   0.231408   0.231408\n",
       "12  73   94.8   92.629919   2.170081   2.170081\n",
       "13  75  101.0   96.070251   4.929749   4.929749\n",
       "14  80   86.0  104.671081 -18.671081  18.671081\n",
       "15  83  122.0  109.831579  12.168421  12.168421\n",
       "16  93  137.4  127.033239  10.366761  10.366761"
      ]
     },
     "execution_count": 429,
     "metadata": {},
     "output_type": "execute_result"
    }
   ],
   "source": [
    "df[\"e\"] = df[\"y\"] - df[\"y^\"]\n",
    "df[\"|e|\"] = df[\"e\"].abs()\n",
    "df"
   ]
  },
  {
   "cell_type": "code",
   "execution_count": 430,
   "id": "9fb82547",
   "metadata": {},
   "outputs": [
    {
     "data": {
      "image/png": "[encoded data removed]",
      "text/plain": [
       "<Figure size 600x400 with 1 Axes>"
      ]
     },
     "metadata": {},
     "output_type": "display_data"
    }
   ],
   "source": [
    "limit = abs(max(df[\"e\"].min(), df[\"e\"].max())) + 5\n",
    "\n",
    "plt.figure(figsize=(6,4))\n",
    "plt.scatter(df[\"y^\"], df[\"e\"])\n",
    "plt.axhline(0, color=\"black\", linestyle=\"--\")\n",
    "plt.title(\"График остатков (e)\")\n",
    "plt.xlabel(\"Предсказанные значения y^\")\n",
    "plt.ylabel(\"Остатки e\")\n",
    "plt.ylim(- limit, limit )\n",
    "plt.show()\n"
   ]
  },
  {
   "cell_type": "code",
   "execution_count": 431,
   "id": "02e09a1a",
   "metadata": {},
   "outputs": [
    {
     "data": {
      "image/png": "[encoded data removed]",
      "text/plain": [
       "<Figure size 600x400 with 1 Axes>"
      ]
     },
     "metadata": {},
     "output_type": "display_data"
    }
   ],
   "source": [
    "limit = df[\"|e|\"].max() + 5\n",
    "\n",
    "plt.figure(figsize=(6,4))\n",
    "plt.scatter(df[\"y^\"], df[\"|e|\"])\n",
    "plt.axhline(0, color=\"black\", linestyle=\"--\")\n",
    "plt.title(\"График остатков (|e|)\")\n",
    "plt.xlabel(\"Предсказанные значения y^\")\n",
    "plt.ylabel(\"Остатки |e|\")\n",
    "plt.ylim(df[\"|e|\"].min() - 5, limit )\n",
    "plt.show()\n"
   ]
  },
  {
   "cell_type": "code",
   "execution_count": 432,
   "id": "0961238d",
   "metadata": {},
   "outputs": [
    {
     "data": {
      "image/png": "[encoded data removed]",
      "text/plain": [
       "<Figure size 600x400 with 1 Axes>"
      ]
     },
     "metadata": {},
     "output_type": "display_data"
    }
   ],
   "source": [
    "limit = df[\"|e|\"].max() + 5\n",
    "\n",
    "plt.figure(figsize=(6,4))\n",
    "plt.scatter(df[\"x\"], df[\"|e|\"])\n",
    "plt.axhline(0, color=\"black\", linestyle=\"--\")\n",
    "plt.title(\"График остатков (|e|)\")\n",
    "plt.xlabel(\"Значения x\")\n",
    "plt.ylabel(\"Остатки |e|\")\n",
    "plt.ylim(df[\"|e|\"].min() - 5, limit )\n",
    "plt.show()\n"
   ]
  },
  {
   "cell_type": "markdown",
   "id": "3fbb864f",
   "metadata": {},
   "source": [
    "# 📘 Смысл критерия Дарбина–Уотсона\n",
    "Он проверяет наличие автокорреляции остатков (обычно — первой степени, то есть связи между eₜ и eₜ₋₁).\n",
    "\n",
    "<img src=\"/Users/artemsaman/Documents/Эконометрика/Python_econometrics/22_10_2025/DW.png\" width=\"650\">\n",
    "\n",
    "| DW значение | Интерпретация                                             |\n",
    "|--------------|----------------------------------------------------------|\n",
    "| **≈ 2.0**    | автокорреляции нет ✅                                    |\n",
    "| **< 2.0**    | положительная автокорреляция (остатки похожи по знаку) ⚠️ |\n",
    "| **> 2.0**    | отрицательная автокорреляция (остатки чередуются) ⚠️      |\n",
    "| **≈ 0**      | сильная положительная автокорреляция ❌                   |\n",
    "| **≈ 4**      | сильная отрицательная автокорреляция ❌                   |\n"
   ]
  },
  {
   "cell_type": "code",
   "execution_count": 433,
   "id": "434f8779",
   "metadata": {},
   "outputs": [
    {
     "name": "stdout",
     "output_type": "stream",
     "text": [
      "Durbin–Watson = 1.6705\n"
     ]
    }
   ],
   "source": [
    "from statsmodels.stats.stattools import durbin_watson\n",
    "\n",
    "dw = durbin_watson(model.resid)\n",
    "print(f\"Durbin–Watson = {dw:.4f}\")\n"
   ]
  },
  {
   "cell_type": "code",
   "execution_count": 434,
   "id": "40acd875",
   "metadata": {},
   "outputs": [
    {
     "name": "stdout",
     "output_type": "stream",
     "text": [
      "Durbin–Watson = 1.6705\n"
     ]
    }
   ],
   "source": [
    "import numpy as np\n",
    "\n",
    "e = model.resid                     # остатки модели\n",
    "dw = np.sum(np.diff(e)**2) / np.sum(e**2)\n",
    "print(f\"Durbin–Watson = {dw:.4f}\")"
   ]
  },
  {
   "cell_type": "markdown",
   "id": "e1ff04b8",
   "metadata": {},
   "source": [
    "Коэффициент Дарбина–Уотсона составляет DW = 1.67, \n",
    "\n",
    "что находится в допустимом диапазоне (1.5–2.5).\n",
    "\n",
    "Следовательно, существенной автокорреляции остатков не наблюдается, \n",
    "\n",
    "и предпосылка классической модели регрессии о независимости ошибок выполняется.\n",
    "\n",
    "Модель зависимости стоимости квартиры (y) от площади квартиры \n",
    "\n",
    "(x) можно считать статистически корректной по данному критерию."
   ]
  }
 ],
 "metadata": {
  "kernelspec": {
   "display_name": "venv",
   "language": "python",
   "name": "python3"
  },
  "language_info": {
   "codemirror_mode": {
    "name": "ipython",
    "version": 3
   },
   "file_extension": ".py",
   "mimetype": "text/x-python",
   "name": "python",
   "nbconvert_exporter": "python",
   "pygments_lexer": "ipython3",
   "version": "3.13.2"
  }
 },
 "nbformat": 4,
 "nbformat_minor": 5
}
